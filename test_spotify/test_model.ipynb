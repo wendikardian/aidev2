{
 "cells": [
  {
   "cell_type": "code",
   "execution_count": 1,
   "metadata": {},
   "outputs": [
    {
     "data": {
      "text/plain": [
       "['Lol music quality is good but the ads are just kinda annoying and when im sleeping and listening to Spotify the ads are just kinda really annoying in my phone theres no repeat for the song since i always like my music in repeat for other i dont know i guess they have the repeat button but i dont have the repeat song button so yeah i only hibe it 4 stars.',\n",
       " 'I like the music but hate the cancellation and removable of truth. Stop being woke',\n",
       " \"The canvas option isn't working for me anymore, so I can't enter a contest to win tickets for one of my favorite artists' release party 😡😡\",\n",
       " 'Sound quality is great...',\n",
       " \"I didn't even done anything and it logout by itself and now i can't even log in also the phone no log in is not even showing i am really mad with this kind of survice\",\n",
       " 'provides very good music, helps me relax',\n",
       " \"Most of the songs i personally listen in Spotify are EXPLICIT👈🏽 and that means (Spotify can't play this right now)🤦🏽\\u200d♂️ As a Premium member im really disappointed, infect im really Angry because im paying a Premium Subscription every month that doesn't allow me to listen anything i wanna listen. Im cancelling everything, whats the point ..🤷🏽\\u200d♂️\",\n",
       " \"no option skip or go back a song. No control options from my phones (galaxy s22) notification page. Can't see what I'm song im playing. Never had any of these problems on any other device.\",\n",
       " \"The best music app I've used so far. Keep it up.\",\n",
       " 'Playlists are not getting updated on all devices. Problem with playback on PC version. Premium version deletes all downloads when the app is removed from quick access or Phone is switched off/restarts.',\n",
       " \"It's not even opening. What happened to old Spotify. I have to uninstall and install again and again still I am not able to login my account. So frustrating.\",\n",
       " \"It's a great streaming platform. There are no glitches and it's easy to order your music in the way you like it. The algorithm also catches on quickly to your taste and suggests music accordingly.\",\n",
       " 'There are some songs i cant play them but are there, besides that everything is perfect though it jas lot of ads but great app',\n",
       " \"Keeps cutting off and on muting songs,I have uninstalled and reinstalled with little to no change. I enjoy the app but hate that I can't consistently listen without problems.\",\n",
       " 'Great music collections!',\n",
       " \"Whats happened with this app? I've used Spotify for years but lately it's useless. It constantly freezes, having to reopen app but then the play/pause controls are nowhere to be seen. Would be nice to listen to a track all the way without it it pausing itself.\",\n",
       " \"Free version isn't possible to use tbh its garbage. But the premium is great. Basically don't use this if your looking for free music on your phone. Premium is the only way to go tbh\",\n",
       " 'Total changed from good to worst😭💔 i even cant play my playlist youtube music is now even better',\n",
       " 'It is a good app to play music on and I lessing to my favorite music what I like',\n",
       " 'Excellent app.,with up to date info.',\n",
       " 'ITS AMAZING I love how i can do whatever I want with my music!! I am speechless! ❤️❤️❤️',\n",
       " \"One of the best apps ever I have tried it's very amazing just that the primium prices are pretty high and would like to wish it lows down and will hope to buy someday very good app for sure\",\n",
       " 'Love the variety of music. I have my calming piano music to put me to sleep at night which is so much better then the radio as no ads. I change my play list off and on my with my moods. I love country music and the 70s rock music. I found music that bring back such great memories. I would recommend this service to all. Keep up the great job. Love to be able to pick and choice my own music',\n",
       " 'Love the content. But the constant bugs make the experience very difficult to enjoy.',\n",
       " 'Why there is no option for selecting kannada songs, you have kept options for other languages',\n",
       " 'Was Great, but now buggy. I cannot pause music anymore.',\n",
       " 'Spotify is almost all I use for music.',\n",
       " \"As of my last spotify recap, I USED the app for (roughly) a whole 1/3 of the year. It's a decent app id say.\",\n",
       " 'Got a free 2 month premium trial from a friend and started getting ads after one month. Also, sound quality is inferior to Pandora.',\n",
       " \"I'm a man who tries to take the bad with the good but to be completely honest. This app on PS4 is FAR superior to this version which demands money for everything. Where as on PS4 I have more freedom on here it's like this is it deal with it.\",\n",
       " 'This Is An Amazing App I Love It Helps Me To Listen To All My Favorite BTS Songs And Sing Along With The Lyrics🥺💜',\n",
       " \"I don't like how it adds music onto your playlist. It's REALLY annoying. I'd rather get soundcloud.\",\n",
       " 'The reason for 1 star is because you will not allow me to upgrade to the family option and try to force me to pay for each individual account. Only because i am already a customer. Way to treat your loyal listeners. Pathetic really.',\n",
       " 'Love it! One of the few apps that I really like! Easy to use even for someone as technological challenged as me!!',\n",
       " 'Just an overall great music player filled with tens of thousands songs and artists to choose from and hey the free version is great as well so what if you have a 30 sec commercial cause after that then you got half an hour of un interrupted music. 5 🌟 🌟 🌟 🌟 🌟 Oh did I mention you get 6 free skips .. yes I think better than pandora',\n",
       " 'I never knew about this app till a friend introduced me to it,I can choose whatever i want all thanks to my friend SPOTIFY is the best thing ever that could have happened to me',\n",
       " 'At first it was okay I was enjoying the music, but now it gives me so many ads that I get irritated🙄',\n",
       " 'So much choice, a song you heard and forgot about, you can find it again! B sides etc.. Great app.',\n",
       " 'App is designed for kids lacking the attention span to enjoy an album. Should have an option to open Band- then automatically list albums in chronological order, not backwards. Shuffle should be removed.',\n",
       " 'Liked it for a while, but the fact that they were given the choice between stopping covid disinformation or spreading it and they chose the latter is unforgivable. Moving to another app. Disgraceful.',\n",
       " 'Xcellent..best besty..u have covered all except videos',\n",
       " \"I am giving it a 1 star Bec when the free month ends it becomes the worst app ever it doesn't let me choose to play a song it makes me play it for a very short time and it is too expensive\",\n",
       " 'Nice app, soft, easy to use',\n",
       " \"Its a good music app and I have spotify premium but when I listen to music lately its been constantly putting the volume down and its only spotify that does this it's not my phone thats the problem.\",\n",
       " 'Hey, I love this app, but for some reason you can\\'t listen to reccomended songs anymore on the \"add songs\" list. I tried uninstalling and reinstalling, but it just doesn\\'t seem to work anymore. Anyone else having this problem? This is the main way I discover new songs.',\n",
       " \"Spotify is great just lately there's a problem on android where if you go to open your notifications while the screen is locked it'll shift the lock screen player for spotify to the right and it becomes unusable. Sometimes force quitting the app will fix it othertimes I have to Uninstall and reinstall. Any permanent fix?\",\n",
       " 'Love the selection and the ease of use.',\n",
       " \"it's pretty good, but occasionally skips songs, doesn't always allow for you to listen to podcasts and albums you've downloaded and even stops letting you sign in on a rare occasion here and there. just be careful I suppose\",\n",
       " 'I dont have a radio in my truck so I use this on my phone.',\n",
       " 'Everything was fine until one day it suddenly stops playing music or doing anything in general. Full of bugs, and it doesnt even recognize my account and my playlists even if i tried logged in again 100 times.',\n",
       " 'Lovely great must but only if I could download without premium',\n",
       " 'I recently upgraded to Spotify Premium, so no adds! It is the ONLY music service I found that has songs from the K-Drama world. I love the addition of the lyrics.',\n",
       " 'Yeh app is very good every song you get. Personally this app is very good to me',\n",
       " \"It log me out and I tried everything to log in but I couldn't. I tried on email, link to email, login with username and even tried to sign up. Nothing is working. It was a great app I hope it will get back\",\n",
       " 'The music keeps stopping when I move to a different add on my phone and I have to keep playing the song from the beginning.',\n",
       " \"I've been thoroughly enjoying it so far. Except for the fact that no matter how much research and app searching I do, I can't find how to rearrange my playlists. It just does not work. That's the only thing that lowers this from a 4 or a 5, to a 3.\",\n",
       " \"If you don't have premium yet then stick to Pandora instead. This app rocks\",\n",
       " 'Really great app with loads of feature in their premiums.',\n",
       " 'Always recommended but you always need a strong internet to play songs .',\n",
       " 'Fast, convenient way to listen to music, and very user friendly. Definitely 5 stars',\n",
       " 'Very user-friendly app. Enjoy the relaxation music to help me sleep. Highly recommended.',\n",
       " 'Amazing music app 👌🏻👌🏻💕',\n",
       " \"Is bunch of dumb thing because you must pay to skip a song or go back to a song and it is stupid because you run out of skips so is basically like a game you running out of lifes... So I'm very unhappy 😡😡😡\",\n",
       " \"I can't log in I'm paying for premium service. I Uninstalled the app and now I can't re install it. What is going on? No music in my car or anywhere. Canceling my contract and going back to Pandora.\",\n",
       " 'Great app. Even the free side of it is awesome.',\n",
       " \"There's no place I'd rather get my music albums and podcasts..simply the best!\",\n",
       " \"No hate, Spotify is great. Please read this review as advice. Spotify needs a screen-saver option. For them sweet, sweedt songs that don't have gif videos (or even do) it would be most excellent if there were an option to have moving visuals matched to the tempo. From something as simple as a heart-beat ecg line, to crazy electric sheep fractals. Please 🙏 make some cool shayt. You have the technology, how hard could it be to predict tempo 1 second in advance to the visuals? Thiaank about it...\",\n",
       " 'In app ads is not cool for a paid app.',\n",
       " \"It's great to listen to music without the fear of someone talking!\",\n",
       " \"Simply the best out no need to say more. Everyone already uses therefore favorite. This one, Sprint forced me to use for free about 10 years ago and I haven't used any other since. So...\",\n",
       " 'Customer service is a complete nightmare. Online chat takes no less than 30 mins to get even the simplest of answers.',\n",
       " 'sptify is a nice app . but it dosent let us enjoy the music. Ads every second and only 5skips a day! its forcing the user to pay. and thats lame .pls let some freedom for the useres so they dont hate this app.',\n",
       " 'bug: the app stop playing music after locking the phone. device: Pixel 4a OS: Android 12 app version: 8.7.24.1111',\n",
       " 'I love being able to listen to my favorite podcasts but only 3 stars because of the bugs. Why does my play bar always mess up or just disappear? It will randomly stop playing and close.',\n",
       " 'Excellent, quality music',\n",
       " 'Free version is pretty good. No need to go premium. I got gifted a membership by my relative 😅',\n",
       " 'Spotify is a really good app to listen to your favorites I recommend this app 10/10',\n",
       " 'Crashes all the time!',\n",
       " 'I love Spotify, but its stopped working for me recently. It just wont play music anymore. So for now, there is 0 point in getting Spotify!',\n",
       " \"Too much ads. First of all the price is quite high as for premium subscription as compared to the other online music application. Also, 3 4 ads are being Played after every 2 3 songs. This is annoying. I don't mind buying a premium plan but they should reduce their yearly subscription plan.\",\n",
       " \"Amazing app for listening 🎧 music but it has a Problem that when I'm playing a playlist, it doesn't stay on that playlist it skipped to the another one. Solve this issue please. Again I'm saying very satisfying app for music.\",\n",
       " \"It's one of the best music apps.. if you like listening to podcasts and getting new songs easily then I guess Spotify is the best choice\",\n",
       " 'Worse with each update. Just stop trying to improve. Most recent update broke the shuffle function and it has 2 of them now. On the player view and playlist. When I turn off the shuffle on player and then decide to play a specific song it turns the shuffle on if it was somehow switched on on the top of the playlist view',\n",
       " 'I like the old generation music and enjoy listening to eightees, ninetees music.',\n",
       " 'Love being able to pick the artist I want to listen to.',\n",
       " \"Helpful service that got issues resolved swiftly. Great streaming service that I've been using for a decade now. Love the control over Playlist and albums for various artists. Have found some cool podcasts I listen to weekly. Besides the politics Spotify has always been my favorite app.\",\n",
       " 'The ability to not play music on demand is incredibly horrible, and not being able to rewind or skip to certain moments in a song also makes the app extremely inconvenient to use',\n",
       " 'Even the free software is very good, I just love this app, thanks to the people who created this app! 😃',\n",
       " 'Pretty easy to use and organized UI/UX',\n",
       " 'Spotify is great. Great variety and easy to use. They provide a great amount of variety for music. Also the podcasts are vast.ots of options and things to learn.',\n",
       " 'Very Bad App There Are Too Much Ads',\n",
       " \"Very good and full of variety. I'm sure you'll find something to your liking.\",\n",
       " 'What are the development costs of Spotify so far? How come it performs worse than most one-man projects out there by a long shot? Google music is becoming more and more appealing',\n",
       " \"Easy to use! I'm not tech savvy but this is to easy\",\n",
       " 'Every time I asked for a song it was there!!',\n",
       " \"I get to listen to the music that i grew up with in the car, st home and out and about. It's great!\",\n",
       " \"Ossm for music lovers,it's really good\",\n",
       " 'I listen to all my podcast and music with a view suggested options that I eventually end up liking.',\n",
       " 'Lovely interface and wonderful app overall.',\n",
       " \"Extremely deceptive app, was given a 2 month premium free trial by a friend. Turns out it wasn't that all not good\",\n",
       " '']"
      ]
     },
     "execution_count": 1,
     "metadata": {},
     "output_type": "execute_result"
    }
   ],
   "source": [
    "with open(\"test_review.txt\", \"r\", encoding = 'utf-8') as f:\n",
    "    content = f.read()\n",
    "    data_review = content.split('\\n')\n",
    "data_review"
   ]
  },
  {
   "cell_type": "code",
   "execution_count": 4,
   "metadata": {},
   "outputs": [],
   "source": [
    "import pickle\n",
    "with open('model.pkl', 'rb') as f:\n",
    "    model = pickle.load(f)\n",
    "with open('transformer.pkl', 'rb') as f:\n",
    "    cv = pickle.load(f)\n",
    "with open('le.pkl', 'rb') as f:\n",
    "    le = pickle.load(f)\n",
    "pred = model.predict(cv.transform(data_review))\n",
    "pred_transformed = le.inverse_transform(pred).tolist()"
   ]
  },
  {
   "cell_type": "code",
   "execution_count": 5,
   "metadata": {},
   "outputs": [
    {
     "data": {
      "text/html": [
       "<div>\n",
       "<style scoped>\n",
       "    .dataframe tbody tr th:only-of-type {\n",
       "        vertical-align: middle;\n",
       "    }\n",
       "\n",
       "    .dataframe tbody tr th {\n",
       "        vertical-align: top;\n",
       "    }\n",
       "\n",
       "    .dataframe thead th {\n",
       "        text-align: right;\n",
       "    }\n",
       "</style>\n",
       "<table border=\"1\" class=\"dataframe\">\n",
       "  <thead>\n",
       "    <tr style=\"text-align: right;\">\n",
       "      <th></th>\n",
       "      <th>Reviews</th>\n",
       "      <th>Outcome</th>\n",
       "    </tr>\n",
       "  </thead>\n",
       "  <tbody>\n",
       "    <tr>\n",
       "      <th>0</th>\n",
       "      <td>Lol music quality is good but the ads are just...</td>\n",
       "      <td>Neutral</td>\n",
       "    </tr>\n",
       "    <tr>\n",
       "      <th>1</th>\n",
       "      <td>I like the music but hate the cancellation and...</td>\n",
       "      <td>Neutral</td>\n",
       "    </tr>\n",
       "    <tr>\n",
       "      <th>2</th>\n",
       "      <td>The canvas option isn't working for me anymore...</td>\n",
       "      <td>Neutral</td>\n",
       "    </tr>\n",
       "    <tr>\n",
       "      <th>3</th>\n",
       "      <td>Sound quality is great...</td>\n",
       "      <td>Good</td>\n",
       "    </tr>\n",
       "    <tr>\n",
       "      <th>4</th>\n",
       "      <td>I didn't even done anything and it logout by i...</td>\n",
       "      <td>Neutral</td>\n",
       "    </tr>\n",
       "    <tr>\n",
       "      <th>...</th>\n",
       "      <td>...</td>\n",
       "      <td>...</td>\n",
       "    </tr>\n",
       "    <tr>\n",
       "      <th>96</th>\n",
       "      <td>Ossm for music lovers,it's really good</td>\n",
       "      <td>Good</td>\n",
       "    </tr>\n",
       "    <tr>\n",
       "      <th>97</th>\n",
       "      <td>I listen to all my podcast and music with a vi...</td>\n",
       "      <td>Good</td>\n",
       "    </tr>\n",
       "    <tr>\n",
       "      <th>98</th>\n",
       "      <td>Lovely interface and wonderful app overall.</td>\n",
       "      <td>Good</td>\n",
       "    </tr>\n",
       "    <tr>\n",
       "      <th>99</th>\n",
       "      <td>Extremely deceptive app, was given a 2 month p...</td>\n",
       "      <td>Good</td>\n",
       "    </tr>\n",
       "    <tr>\n",
       "      <th>100</th>\n",
       "      <td></td>\n",
       "      <td>Good</td>\n",
       "    </tr>\n",
       "  </tbody>\n",
       "</table>\n",
       "<p>101 rows × 2 columns</p>\n",
       "</div>"
      ],
      "text/plain": [
       "                                               Reviews  Outcome\n",
       "0    Lol music quality is good but the ads are just...  Neutral\n",
       "1    I like the music but hate the cancellation and...  Neutral\n",
       "2    The canvas option isn't working for me anymore...  Neutral\n",
       "3                            Sound quality is great...     Good\n",
       "4    I didn't even done anything and it logout by i...  Neutral\n",
       "..                                                 ...      ...\n",
       "96              Ossm for music lovers,it's really good     Good\n",
       "97   I listen to all my podcast and music with a vi...     Good\n",
       "98         Lovely interface and wonderful app overall.     Good\n",
       "99   Extremely deceptive app, was given a 2 month p...     Good\n",
       "100                                                        Good\n",
       "\n",
       "[101 rows x 2 columns]"
      ]
     },
     "execution_count": 5,
     "metadata": {},
     "output_type": "execute_result"
    }
   ],
   "source": [
    "import pandas as pd\n",
    "\n",
    "result = pd.DataFrame({'Reviews':data_review, \n",
    "'Outcome': pred_transformed})\n",
    "result"
   ]
  },
  {
   "cell_type": "code",
   "execution_count": 6,
   "metadata": {},
   "outputs": [
    {
     "data": {
      "text/plain": [
       "<AxesSubplot: xlabel='Outcome', ylabel='count'>"
      ]
     },
     "execution_count": 6,
     "metadata": {},
     "output_type": "execute_result"
    },
    {
     "data": {
      "image/png": "[encoded data removed]",
      "text/plain": [
       "<Figure size 640x480 with 1 Axes>"
      ]
     },
     "metadata": {},
     "output_type": "display_data"
    },
    {
     "ename": "",
     "evalue": "",
     "output_type": "error",
     "traceback": [
      "\u001b[1;31mThe Kernel crashed while executing code in the the current cell or a previous cell. Please review the code in the cell(s) to identify a possible cause of the failure. Click <a href='https://aka.ms/vscodeJupyterKernelCrash'>here</a> for more info. View Jupyter <a href='command:jupyter.viewOutput'>log</a> for further details."
     ]
    }
   ],
   "source": [
    "import seaborn as sns\n",
    "\n",
    "sns.countplot(x='Outcome', data=result, palette='pastel')"
   ]
  }
 ],
 "metadata": {
  "kernelspec": {
   "display_name": "Python 3",
   "language": "python",
   "name": "python3"
  },
  "language_info": {
   "codemirror_mode": {
    "name": "ipython",
    "version": 3
   },
   "file_extension": ".py",
   "mimetype": "text/x-python",
   "name": "python",
   "nbconvert_exporter": "python",
   "pygments_lexer": "ipython3",
   "version": "3.9.13"
  },
  "orig_nbformat": 4,
  "vscode": {
   "interpreter": {
    "hash": "4b012d59fd9967520aa1876644e3a9774eee391dbb6584df68e553498820aaf9"
   }
  }
 },
 "nbformat": 4,
 "nbformat_minor": 2
}
