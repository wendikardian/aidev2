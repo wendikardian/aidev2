{
 "cells": [
  {
   "cell_type": "code",
   "execution_count": 1,
   "metadata": {},
   "outputs": [
    {
     "data": {
      "text/plain": [
       "'Tokenization is the structured process of converting a sentence into an individual collection of elements called tokens. It is also used to understand the importance of each of the words with respect to the sentence. These so-called tokens can be words, numbers, or punctuation marks.'"
      ]
     },
     "execution_count": 1,
     "metadata": {},
     "output_type": "execute_result"
    }
   ],
   "source": [
    "import numpy as np\n",
    "import nltk\n",
    "\n",
    "f = open('sentence.txt', 'r', errors='ignore')\n",
    "raw_code = f.read()\n",
    "raw_code\n"
   ]
  },
  {
   "cell_type": "code",
   "execution_count": 2,
   "metadata": {},
   "outputs": [
    {
     "data": {
      "text/plain": [
       "'tokenization is the structured process of converting a sentence into an individual collection of elements called tokens. it is also used to understand the importance of each of the words with respect to the sentence. these so-called tokens can be words, numbers, or punctuation marks.'"
      ]
     },
     "execution_count": 2,
     "metadata": {},
     "output_type": "execute_result"
    }
   ],
   "source": [
    "raw_code = raw_code.lower()\n",
    "raw_code\n"
   ]
  },
  {
   "cell_type": "code",
   "execution_count": 3,
   "metadata": {},
   "outputs": [
    {
     "name": "stderr",
     "output_type": "stream",
     "text": [
      "[nltk_data] Downloading package punkt to\n",
      "[nltk_data]     C:\\Users\\Asus\\AppData\\Roaming\\nltk_data...\n",
      "[nltk_data]   Package punkt is already up-to-date!\n",
      "[nltk_data] Downloading package wordnet to\n",
      "[nltk_data]     C:\\Users\\Asus\\AppData\\Roaming\\nltk_data...\n",
      "[nltk_data]   Package wordnet is already up-to-date!\n"
     ]
    }
   ],
   "source": [
    "from nltk.tokenize import sent_tokenize, word_tokenize\n",
    "nltk.download('punkt')\n",
    "nltk.download('wordnet')\n",
    "\n",
    "sent_tokens = nltk.sent_tokenize(raw_code)  # into sentences\n",
    "word_tokens = nltk.word_tokenize(raw_code)  # into words\n",
    "\n",
    "\n",
    "# sent_tokens\n",
    "# word_tokens\n"
   ]
  },
  {
   "cell_type": "code",
   "execution_count": 4,
   "metadata": {},
   "outputs": [
    {
     "data": {
      "text/plain": [
       "['tokenization',\n",
       " 'is',\n",
       " 'the',\n",
       " 'structured',\n",
       " 'process',\n",
       " 'of',\n",
       " 'converting',\n",
       " 'a',\n",
       " 'sentence',\n",
       " 'into',\n",
       " 'an',\n",
       " 'individual',\n",
       " 'collection',\n",
       " 'of',\n",
       " 'elements',\n",
       " 'called',\n",
       " 'tokens',\n",
       " 'it',\n",
       " 'is',\n",
       " 'also',\n",
       " 'used',\n",
       " 'to',\n",
       " 'understand',\n",
       " 'the',\n",
       " 'importance',\n",
       " 'of',\n",
       " 'each',\n",
       " 'of',\n",
       " 'the',\n",
       " 'words',\n",
       " 'with',\n",
       " 'respect',\n",
       " 'to',\n",
       " 'the',\n",
       " 'sentence',\n",
       " 'these',\n",
       " 'socalled',\n",
       " 'tokens',\n",
       " 'can',\n",
       " 'be',\n",
       " 'words',\n",
       " 'numbers',\n",
       " 'or',\n",
       " 'punctuation',\n",
       " 'marks']"
      ]
     },
     "execution_count": 4,
     "metadata": {},
     "output_type": "execute_result"
    }
   ],
   "source": [
    "# Tokenazitions using REGEX\n",
    "\n",
    "import re\n",
    "clean_data = []\n",
    "for words in word_tokens:\n",
    "    item = []\n",
    "    result = re.sub(r\"[^\\w\\s]\", \"\", words)\n",
    "    if result != \"\":\n",
    "        clean_data.append(result)\n",
    "\n",
    "clean_data\n"
   ]
  },
  {
   "cell_type": "code",
   "execution_count": 5,
   "metadata": {},
   "outputs": [
    {
     "name": "stdout",
     "output_type": "stream",
     "text": [
      "['i', 'me', 'my', 'myself', 'we', 'our', 'ours', 'ourselves', 'you', \"you're\", \"you've\", \"you'll\", \"you'd\", 'your', 'yours', 'yourself', 'yourselves', 'he', 'him', 'his', 'himself', 'she', \"she's\", 'her', 'hers', 'herself', 'it', \"it's\", 'its', 'itself', 'they', 'them', 'their', 'theirs', 'themselves', 'what', 'which', 'who', 'whom', 'this', 'that', \"that'll\", 'these', 'those', 'am', 'is', 'are', 'was', 'were', 'be', 'been', 'being', 'have', 'has', 'had', 'having', 'do', 'does', 'did', 'doing', 'a', 'an', 'the', 'and', 'but', 'if', 'or', 'because', 'as', 'until', 'while', 'of', 'at', 'by', 'for', 'with', 'about', 'against', 'between', 'into', 'through', 'during', 'before', 'after', 'above', 'below', 'to', 'from', 'up', 'down', 'in', 'out', 'on', 'off', 'over', 'under', 'again', 'further', 'then', 'once', 'here', 'there', 'when', 'where', 'why', 'how', 'all', 'any', 'both', 'each', 'few', 'more', 'most', 'other', 'some', 'such', 'no', 'nor', 'not', 'only', 'own', 'same', 'so', 'than', 'too', 'very', 's', 't', 'can', 'will', 'just', 'don', \"don't\", 'should', \"should've\", 'now', 'd', 'll', 'm', 'o', 're', 've', 'y', 'ain', 'aren', \"aren't\", 'couldn', \"couldn't\", 'didn', \"didn't\", 'doesn', \"doesn't\", 'hadn', \"hadn't\", 'hasn', \"hasn't\", 'haven', \"haven't\", 'isn', \"isn't\", 'ma', 'mightn', \"mightn't\", 'mustn', \"mustn't\", 'needn', \"needn't\", 'shan', \"shan't\", 'shouldn', \"shouldn't\", 'wasn', \"wasn't\", 'weren', \"weren't\", 'won', \"won't\", 'wouldn', \"wouldn't\"]\n"
     ]
    },
    {
     "name": "stderr",
     "output_type": "stream",
     "text": [
      "[nltk_data] Downloading package stopwords to\n",
      "[nltk_data]     C:\\Users\\Asus\\AppData\\Roaming\\nltk_data...\n",
      "[nltk_data]   Package stopwords is already up-to-date!\n"
     ]
    },
    {
     "data": {
      "text/plain": [
       "['tokenization',\n",
       " 'structured',\n",
       " 'process',\n",
       " 'converting',\n",
       " 'sentence',\n",
       " 'individual',\n",
       " 'collection',\n",
       " 'elements',\n",
       " 'called',\n",
       " 'tokens',\n",
       " 'also',\n",
       " 'used',\n",
       " 'understand',\n",
       " 'importance',\n",
       " 'words',\n",
       " 'respect',\n",
       " 'sentence',\n",
       " 'socalled',\n",
       " 'tokens',\n",
       " 'words',\n",
       " 'numbers',\n",
       " 'punctuation',\n",
       " 'marks']"
      ]
     },
     "execution_count": 5,
     "metadata": {},
     "output_type": "execute_result"
    }
   ],
   "source": [
    "# Stop words\n",
    "\n",
    "nltk.download('stopwords')\n",
    "from nltk.corpus import stopwords\n",
    "\n",
    "print(stopwords.words('english'))\n",
    "\n",
    "clean_data_1 = []\n",
    "for words in clean_data:\n",
    "    if not words in stopwords.words('english'):\n",
    "        clean_data_1.append(words)\n",
    "\n",
    "clean_data_1"
   ]
  },
  {
   "cell_type": "code",
   "execution_count": 6,
   "metadata": {},
   "outputs": [
    {
     "data": {
      "text/plain": [
       "['token',\n",
       " 'structur',\n",
       " 'process',\n",
       " 'convert',\n",
       " 'sentenc',\n",
       " 'individu',\n",
       " 'collect',\n",
       " 'element',\n",
       " 'call',\n",
       " 'token',\n",
       " 'also',\n",
       " 'use',\n",
       " 'understand',\n",
       " 'import',\n",
       " 'word',\n",
       " 'respect',\n",
       " 'sentenc',\n",
       " 'socal',\n",
       " 'token',\n",
       " 'word',\n",
       " 'number',\n",
       " 'punctuat',\n",
       " 'mark']"
      ]
     },
     "execution_count": 6,
     "metadata": {},
     "output_type": "execute_result"
    }
   ],
   "source": [
    "# STEMMING PROCESS\n",
    "\n",
    "from nltk.stem import PorterStemmer\n",
    "\n",
    "stemmer = PorterStemmer()\n",
    "\n",
    "stemmed_data = [stemmer.stem(word) for word in clean_data_1]\n",
    "\n",
    "stemmed_data "
   ]
  },
  {
   "cell_type": "code",
   "execution_count": 7,
   "metadata": {},
   "outputs": [
    {
     "name": "stderr",
     "output_type": "stream",
     "text": [
      "[nltk_data] Downloading package wordnet to\n",
      "[nltk_data]     C:\\Users\\Asus\\AppData\\Roaming\\nltk_data...\n",
      "[nltk_data]   Package wordnet is already up-to-date!\n"
     ]
    },
    {
     "data": {
      "text/plain": [
       "['tokenization',\n",
       " 'structured',\n",
       " 'process',\n",
       " 'converting',\n",
       " 'sentence',\n",
       " 'individual',\n",
       " 'collection',\n",
       " 'element',\n",
       " 'called',\n",
       " 'token',\n",
       " 'also',\n",
       " 'used',\n",
       " 'understand',\n",
       " 'importance',\n",
       " 'word',\n",
       " 'respect',\n",
       " 'sentence',\n",
       " 'socalled',\n",
       " 'token',\n",
       " 'word',\n",
       " 'number',\n",
       " 'punctuation',\n",
       " 'mark']"
      ]
     },
     "execution_count": 7,
     "metadata": {},
     "output_type": "execute_result"
    }
   ],
   "source": [
    "# LEMMATIZATION\n",
    "\n",
    "\n",
    "from nltk.stem.wordnet import  WordNetLemmatizer\n",
    "import nltk\n",
    "\n",
    "lemmer = nltk.stem.WordNetLemmatizer()\n",
    "\n",
    "nltk.download('wordnet')\n",
    "\n",
    "lemma_data = []\n",
    "\n",
    "for word in clean_data_1:\n",
    "    lemma_data.append(lemmer.lemmatize(word))\n",
    "\n",
    "lemma_data\n"
   ]
  },
  {
   "cell_type": "code",
   "execution_count": 8,
   "metadata": {},
   "outputs": [
    {
     "name": "stderr",
     "output_type": "stream",
     "text": [
      "[nltk_data] Downloading package averaged_perceptron_tagger to\n",
      "[nltk_data]     C:\\Users\\Asus\\AppData\\Roaming\\nltk_data...\n",
      "[nltk_data]   Package averaged_perceptron_tagger is already up-to-\n",
      "[nltk_data]       date!\n"
     ]
    },
    {
     "data": {
      "text/plain": [
       "[('tokenization', 'NN'),\n",
       " ('structured', 'VBD'),\n",
       " ('process', 'NN'),\n",
       " ('converting', 'VBG'),\n",
       " ('sentence', 'NN'),\n",
       " ('individual', 'JJ'),\n",
       " ('collection', 'NN'),\n",
       " ('element', 'NN'),\n",
       " ('called', 'VBN'),\n",
       " ('token', 'NN'),\n",
       " ('also', 'RB'),\n",
       " ('used', 'VBD'),\n",
       " ('understand', 'JJ'),\n",
       " ('importance', 'NN'),\n",
       " ('word', 'NN'),\n",
       " ('respect', 'NN'),\n",
       " ('sentence', 'NN'),\n",
       " ('socalled', 'VBD'),\n",
       " ('token', 'JJ'),\n",
       " ('word', 'NN'),\n",
       " ('number', 'NN'),\n",
       " ('punctuation', 'NN'),\n",
       " ('mark', 'NN')]"
      ]
     },
     "execution_count": 8,
     "metadata": {},
     "output_type": "execute_result"
    }
   ],
   "source": [
    "# Speech Tagging\n",
    "nltk.download('averaged_perceptron_tagger')\n",
    "\n",
    "pos_data = nltk.pos_tag(lemma_data)\n",
    "pos_data\n",
    "\n",
    "#  NN: noun, singular or mass\n",
    "# VBZ: verb, 3rd person singular present\n",
    "# DT: determiner\n",
    "# IN: preposition or subordinating conjunction\n",
    "# JJ: adjective\n",
    "# RB: adverb"
   ]
  },
  {
   "cell_type": "code",
   "execution_count": 9,
   "metadata": {},
   "outputs": [
    {
     "name": "stdout",
     "output_type": "stream",
     "text": [
      "(S\n",
      "  (NP tokenization/NN)\n",
      "  structured/VBD\n",
      "  (NP process/NN)\n",
      "  converting/VBG\n",
      "  (NP sentence/NN)\n",
      "  (NP individual/JJ collection/NN)\n",
      "  (NP element/NN)\n",
      "  called/VBN\n",
      "  (NP token/NN)\n",
      "  also/RB\n",
      "  used/VBD\n",
      "  (NP understand/JJ importance/NN)\n",
      "  (NP word/NN)\n",
      "  (NP respect/NN)\n",
      "  (NP sentence/NN)\n",
      "  socalled/VBD\n",
      "  (NP token/JJ word/NN)\n",
      "  (NP number/NN)\n",
      "  (NP punctuation/NN)\n",
      "  (NP mark/NN))\n"
     ]
    }
   ],
   "source": [
    "chunkGram = \"NP: {<DT>?<JJ>*<NN>}\"\n",
    "chunkParser = nltk.RegexpParser(chunkGram)\n",
    "chunked = chunkParser.parse(pos_data)\n",
    "\n",
    "print(chunked)\n",
    "\n",
    "# It basically means picking up individual pieces of information and grouping them into bigger pieces.\n",
    "# Chunking is a process that requires POS tagged input, and it provides chunks of phrases as output. Similar to POS tags, there is a standard set of chunk tags like Noun Phrase (NP), Verb Phrase (VP), etc."
   ]
  },
  {
   "cell_type": "code",
   "execution_count": null,
   "metadata": {},
   "outputs": [],
   "source": []
  }
 ],
 "metadata": {
  "kernelspec": {
   "display_name": "Python 3",
   "language": "python",
   "name": "python3"
  },
  "language_info": {
   "codemirror_mode": {
    "name": "ipython",
    "version": 3
   },
   "file_extension": ".py",
   "mimetype": "text/x-python",
   "name": "python",
   "nbconvert_exporter": "python",
   "pygments_lexer": "ipython3",
   "version": "3.9.13 (tags/v3.9.13:6de2ca5, May 17 2022, 16:36:42) [MSC v.1929 64 bit (AMD64)]"
  },
  "orig_nbformat": 4,
  "vscode": {
   "interpreter": {
    "hash": "4b012d59fd9967520aa1876644e3a9774eee391dbb6584df68e553498820aaf9"
   }
  }
 },
 "nbformat": 4,
 "nbformat_minor": 2
}
