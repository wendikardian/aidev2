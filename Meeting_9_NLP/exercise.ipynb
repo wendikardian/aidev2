{
 "cells": [
  {
   "cell_type": "code",
   "execution_count": 1,
   "metadata": {},
   "outputs": [
    {
     "data": {
      "text/plain": [
       "'Tokenization is the structured process of converting a sentence into an individual collection of elements called tokens. It is also used to understand the importance of each of the words with respect to the sentence. These so-called tokens can be words, numbers, or punctuation marks.'"
      ]
     },
     "execution_count": 1,
     "metadata": {},
     "output_type": "execute_result"
    }
   ],
   "source": [
    "import numpy as np\n",
    "import nltk\n",
    "\n",
    "f = open('sentence.txt', 'r', errors='ignore')\n",
    "raw_code = f.read()\n",
    "raw_code\n"
   ]
  },
  {
   "cell_type": "code",
   "execution_count": 2,
   "metadata": {},
   "outputs": [
    {
     "data": {
      "text/plain": [
       "'tokenization is the structured process of converting a sentence into an individual collection of elements called tokens. it is also used to understand the importance of each of the words with respect to the sentence. these so-called tokens can be words, numbers, or punctuation marks.'"
      ]
     },
     "execution_count": 2,
     "metadata": {},
     "output_type": "execute_result"
    }
   ],
   "source": [
    "raw_code = raw_code.lower()\n",
    "raw_code\n"
   ]
  },
  {
   "cell_type": "code",
   "execution_count": 13,
   "metadata": {},
   "outputs": [
    {
     "name": "stderr",
     "output_type": "stream",
     "text": [
      "[nltk_data] Downloading package punkt to\n",
      "[nltk_data]     C:\\Users\\Asus\\AppData\\Roaming\\nltk_data...\n",
      "[nltk_data]   Package punkt is already up-to-date!\n",
      "[nltk_data] Downloading package wordnet to\n",
      "[nltk_data]     C:\\Users\\Asus\\AppData\\Roaming\\nltk_data...\n",
      "[nltk_data]   Package wordnet is already up-to-date!\n"
     ]
    },
    {
     "data": {
      "text/plain": [
       "['tokenization',\n",
       " 'is',\n",
       " 'the',\n",
       " 'structured',\n",
       " 'process',\n",
       " 'of',\n",
       " 'converting',\n",
       " 'a',\n",
       " 'sentence',\n",
       " 'into',\n",
       " 'an',\n",
       " 'individual',\n",
       " 'collection',\n",
       " 'of',\n",
       " 'elements',\n",
       " 'called',\n",
       " 'tokens',\n",
       " '.',\n",
       " 'it',\n",
       " 'is',\n",
       " 'also',\n",
       " 'used',\n",
       " 'to',\n",
       " 'understand',\n",
       " 'the',\n",
       " 'importance',\n",
       " 'of',\n",
       " 'each',\n",
       " 'of',\n",
       " 'the',\n",
       " 'words',\n",
       " 'with',\n",
       " 'respect',\n",
       " 'to',\n",
       " 'the',\n",
       " 'sentence',\n",
       " '.',\n",
       " 'these',\n",
       " 'so-called',\n",
       " 'tokens',\n",
       " 'can',\n",
       " 'be',\n",
       " 'words',\n",
       " ',',\n",
       " 'numbers',\n",
       " ',',\n",
       " 'or',\n",
       " 'punctuation',\n",
       " 'marks',\n",
       " '.']"
      ]
     },
     "execution_count": 13,
     "metadata": {},
     "output_type": "execute_result"
    }
   ],
   "source": [
    "from nltk.tokenize import sent_tokenize, word_tokenize\n",
    "nltk.download('punkt')\n",
    "nltk.download('wordnet')\n",
    "\n",
    "sent_tokens = nltk.sent_tokenize(raw_code)  # into sentences\n",
    "word_tokens = nltk.word_tokenize(raw_code)  # into words\n",
    "\n",
    "\n",
    "# sent_tokens\n",
    "word_tokens\n"
   ]
  },
  {
   "cell_type": "code",
   "execution_count": 4,
   "metadata": {},
   "outputs": [
    {
     "data": {
      "text/plain": [
       "['tokenization',\n",
       " 'is',\n",
       " 'the',\n",
       " 'structured',\n",
       " 'process',\n",
       " 'of',\n",
       " 'converting',\n",
       " 'a',\n",
       " 'sentence',\n",
       " 'into',\n",
       " 'an',\n",
       " 'individual',\n",
       " 'collection',\n",
       " 'of',\n",
       " 'elements',\n",
       " 'called',\n",
       " 'tokens',\n",
       " 'it',\n",
       " 'is',\n",
       " 'also',\n",
       " 'used',\n",
       " 'to',\n",
       " 'understand',\n",
       " 'the',\n",
       " 'importance',\n",
       " 'of',\n",
       " 'each',\n",
       " 'of',\n",
       " 'the',\n",
       " 'words',\n",
       " 'with',\n",
       " 'respect',\n",
       " 'to',\n",
       " 'the',\n",
       " 'sentence',\n",
       " 'these',\n",
       " 'socalled',\n",
       " 'tokens',\n",
       " 'can',\n",
       " 'be',\n",
       " 'words',\n",
       " 'numbers',\n",
       " 'or',\n",
       " 'punctuation',\n",
       " 'marks']"
      ]
     },
     "execution_count": 4,
     "metadata": {},
     "output_type": "execute_result"
    }
   ],
   "source": [
    "# Tokenazitions using REGEX\n",
    "\n",
    "import re\n",
    "clean_data = []\n",
    "for words in word_tokens:\n",
    "    item = []\n",
    "    result = re.sub(r\"[^\\w\\s]\", \"\", words)\n",
    "    if result != \"\":\n",
    "        clean_data.append(result)\n",
    "\n",
    "clean_data\n"
   ]
  },
  {
   "cell_type": "code",
   "execution_count": 18,
   "metadata": {},
   "outputs": [
    {
     "name": "stdout",
     "output_type": "stream",
     "text": [
      "['de', 'en', 'van', 'ik', 'te', 'dat', 'die', 'in', 'een', 'hij', 'het', 'niet', 'zijn', 'is', 'was', 'op', 'aan', 'met', 'als', 'voor', 'had', 'er', 'maar', 'om', 'hem', 'dan', 'zou', 'of', 'wat', 'mijn', 'men', 'dit', 'zo', 'door', 'over', 'ze', 'zich', 'bij', 'ook', 'tot', 'je', 'mij', 'uit', 'der', 'daar', 'haar', 'naar', 'heb', 'hoe', 'heeft', 'hebben', 'deze', 'u', 'want', 'nog', 'zal', 'me', 'zij', 'nu', 'ge', 'geen', 'omdat', 'iets', 'worden', 'toch', 'al', 'waren', 'veel', 'meer', 'doen', 'toen', 'moet', 'ben', 'zonder', 'kan', 'hun', 'dus', 'alles', 'onder', 'ja', 'eens', 'hier', 'wie', 'werd', 'altijd', 'doch', 'wordt', 'wezen', 'kunnen', 'ons', 'zelf', 'tegen', 'na', 'reeds', 'wil', 'kon', 'niets', 'uw', 'iemand', 'geweest', 'andere']\n"
     ]
    },
    {
     "name": "stderr",
     "output_type": "stream",
     "text": [
      "[nltk_data] Downloading package stopwords to\n",
      "[nltk_data]     C:\\Users\\Asus\\AppData\\Roaming\\nltk_data...\n",
      "[nltk_data]   Package stopwords is already up-to-date!\n"
     ]
    },
    {
     "data": {
      "text/plain": [
       "['tokenization',\n",
       " 'structured',\n",
       " 'process',\n",
       " 'converting',\n",
       " 'sentence',\n",
       " 'individual',\n",
       " 'collection',\n",
       " 'elements',\n",
       " 'called',\n",
       " 'tokens',\n",
       " 'also',\n",
       " 'used',\n",
       " 'understand',\n",
       " 'importance',\n",
       " 'words',\n",
       " 'respect',\n",
       " 'sentence',\n",
       " 'socalled',\n",
       " 'tokens',\n",
       " 'words',\n",
       " 'numbers',\n",
       " 'punctuation',\n",
       " 'marks']"
      ]
     },
     "execution_count": 18,
     "metadata": {},
     "output_type": "execute_result"
    }
   ],
   "source": [
    "# Stop words\n",
    "\n",
    "nltk.download('stopwords')\n",
    "from nltk.corpus import stopwords\n",
    "\n",
    "# print(stopwords.words('dutch'))\n",
    "clean_data_1 = []\n",
    "for words in clean_data:\n",
    "    if not words in stopwords.words('english'):\n",
    "        clean_data_1.append(words)\n",
    "\n",
    "clean_data_1"
   ]
  },
  {
   "cell_type": "code",
   "execution_count": 6,
   "metadata": {},
   "outputs": [
    {
     "data": {
      "text/plain": [
       "['token',\n",
       " 'structur',\n",
       " 'process',\n",
       " 'convert',\n",
       " 'sentenc',\n",
       " 'individu',\n",
       " 'collect',\n",
       " 'element',\n",
       " 'call',\n",
       " 'token',\n",
       " 'also',\n",
       " 'use',\n",
       " 'understand',\n",
       " 'import',\n",
       " 'word',\n",
       " 'respect',\n",
       " 'sentenc',\n",
       " 'socal',\n",
       " 'token',\n",
       " 'word',\n",
       " 'number',\n",
       " 'punctuat',\n",
       " 'mark']"
      ]
     },
     "execution_count": 6,
     "metadata": {},
     "output_type": "execute_result"
    }
   ],
   "source": [
    "# STEMMING PROCESS\n",
    "\n",
    "from nltk.stem import PorterStemmer\n",
    "\n",
    "stemmer = PorterStemmer()\n",
    "\n",
    "stemmed_data = [stemmer.stem(word) for word in clean_data_1]\n",
    "\n",
    "stemmed_data "
   ]
  },
  {
   "cell_type": "code",
   "execution_count": 7,
   "metadata": {},
   "outputs": [
    {
     "name": "stderr",
     "output_type": "stream",
     "text": [
      "[nltk_data] Downloading package wordnet to\n",
      "[nltk_data]     C:\\Users\\Asus\\AppData\\Roaming\\nltk_data...\n",
      "[nltk_data]   Package wordnet is already up-to-date!\n"
     ]
    },
    {
     "data": {
      "text/plain": [
       "['tokenization',\n",
       " 'structured',\n",
       " 'process',\n",
       " 'converting',\n",
       " 'sentence',\n",
       " 'individual',\n",
       " 'collection',\n",
       " 'element',\n",
       " 'called',\n",
       " 'token',\n",
       " 'also',\n",
       " 'used',\n",
       " 'understand',\n",
       " 'importance',\n",
       " 'word',\n",
       " 'respect',\n",
       " 'sentence',\n",
       " 'socalled',\n",
       " 'token',\n",
       " 'word',\n",
       " 'number',\n",
       " 'punctuation',\n",
       " 'mark']"
      ]
     },
     "execution_count": 7,
     "metadata": {},
     "output_type": "execute_result"
    }
   ],
   "source": [
    "# LEMMATIZATION\n",
    "\n",
    "\n",
    "from nltk.stem.wordnet import  WordNetLemmatizer\n",
    "import nltk\n",
    "\n",
    "lemmer = nltk.stem.WordNetLemmatizer()\n",
    "\n",
    "nltk.download('wordnet')\n",
    "\n",
    "lemma_data = []\n",
    "\n",
    "for word in clean_data_1:\n",
    "    lemma_data.append(lemmer.lemmatize(word))\n",
    "\n",
    "lemma_data\n"
   ]
  },
  {
   "cell_type": "code",
   "execution_count": 8,
   "metadata": {},
   "outputs": [
    {
     "name": "stderr",
     "output_type": "stream",
     "text": [
      "[nltk_data] Downloading package averaged_perceptron_tagger to\n",
      "[nltk_data]     C:\\Users\\Asus\\AppData\\Roaming\\nltk_data...\n",
      "[nltk_data]   Package averaged_perceptron_tagger is already up-to-\n",
      "[nltk_data]       date!\n"
     ]
    },
    {
     "data": {
      "text/plain": [
       "[('tokenization', 'NN'),\n",
       " ('structured', 'VBD'),\n",
       " ('process', 'NN'),\n",
       " ('converting', 'VBG'),\n",
       " ('sentence', 'NN'),\n",
       " ('individual', 'JJ'),\n",
       " ('collection', 'NN'),\n",
       " ('element', 'NN'),\n",
       " ('called', 'VBN'),\n",
       " ('token', 'NN'),\n",
       " ('also', 'RB'),\n",
       " ('used', 'VBD'),\n",
       " ('understand', 'JJ'),\n",
       " ('importance', 'NN'),\n",
       " ('word', 'NN'),\n",
       " ('respect', 'NN'),\n",
       " ('sentence', 'NN'),\n",
       " ('socalled', 'VBD'),\n",
       " ('token', 'JJ'),\n",
       " ('word', 'NN'),\n",
       " ('number', 'NN'),\n",
       " ('punctuation', 'NN'),\n",
       " ('mark', 'NN')]"
      ]
     },
     "execution_count": 8,
     "metadata": {},
     "output_type": "execute_result"
    }
   ],
   "source": [
    "# Speech Tagging\n",
    "nltk.download('averaged_perceptron_tagger')\n",
    "\n",
    "pos_data = nltk.pos_tag(lemma_data)\n",
    "pos_data\n",
    "\n",
    "#  NN: noun, singular or mass\n",
    "# VBZ: verb, 3rd person singular present\n",
    "# DT: determiner\n",
    "# IN: preposition or subordinating conjunction\n",
    "# JJ: adjective\n",
    "# RB: adverb"
   ]
  },
  {
   "cell_type": "code",
   "execution_count": 11,
   "metadata": {},
   "outputs": [
    {
     "name": "stdout",
     "output_type": "stream",
     "text": [
      "Collecting turtle(S\n",
      "  (NP tokenization/NN)\n",
      "  structured/VBD\n",
      "  (NP process/NN)\n",
      "  converting/VBG\n",
      "  (NP sentence/NN)\n",
      "  (NP individual/JJ collection/NN)\n",
      "  (NP element/NN)\n",
      "  called/VBN\n",
      "  (NP token/NN)\n",
      "  also/RB\n",
      "  used/VBD\n",
      "  (NP understand/JJ importance/NN)\n",
      "  (NP word/NN)\n",
      "  (NP respect/NN)\n",
      "  (NP sentence/NN)\n",
      "  socalled/VBD\n",
      "  (NP token/JJ word/NN)\n",
      "  (NP number/NN)\n",
      "  (NP punctuation/NN)\n",
      "  (NP mark/NN))\n",
      "\n",
      "  Using cached turtle-0.0.2.tar.gz (11 kB)\n",
      "  Preparing metadata (setup.py): started\n",
      "  Preparing metadata (setup.py): finished with status 'error'\n"
     ]
    },
    {
     "name": "stderr",
     "output_type": "stream",
     "text": [
      "  error: subprocess-exited-with-error\n",
      "  \n",
      "  × python setup.py egg_info did not run successfully.\n",
      "  │ exit code: 1\n",
      "  ╰─> [7 lines of output]\n",
      "      Traceback (most recent call last):\n",
      "        File \"<string>\", line 2, in <module>\n",
      "        File \"<pip-setuptools-caller>\", line 34, in <module>\n",
      "        File \"C:\\Users\\Asus\\AppData\\Local\\Temp\\pip-install-g3catl4p\\turtle_77e17537f0bf4d3aa8017aa9d877eaf8\\setup.py\", line 40\n",
      "          except ValueError, ve:\n",
      "                           ^\n",
      "      SyntaxError: invalid syntax\n",
      "      [end of output]\n",
      "  \n",
      "  note: This error originates from a subprocess, and is likely not a problem with pip.\n",
      "error: metadata-generation-failed\n",
      "\n",
      "× Encountered error while generating package metadata.\n",
      "╰─> See above for output.\n",
      "\n",
      "note: This is an issue with the package mentioned above, not pip.\n",
      "hint: See above for details.\n",
      "\n",
      "[notice] A new release of pip available: 22.3.1 -> 23.2.1\n",
      "[notice] To update, run: C:\\Users\\Asus\\AppData\\Local\\Microsoft\\WindowsApps\\PythonSoftwareFoundation.Python.3.9_qbz5n2kfra8p0\\python.exe -m pip install --upgrade pip\n"
     ]
    }
   ],
   "source": [
    "# !pip install turtle\n",
    "\n",
    "chunkGram = \"NP: {<DT>?<JJ>*<NN>}\"\n",
    "chunkParser = nltk.RegexpParser(chunkGram)\n",
    "chunked = chunkParser.parse(pos_data)\n",
    "\n",
    "print(chunked)\n",
    "\n",
    "# It basically means picking up individual pieces of information and grouping them into bigger pieces.\n",
    "# Chunking is a process that requires POS tagged input, and it provides chunks of phrases as output. Similar to POS tags, there is a standard set of chunk tags like Noun Phrase (NP), Verb Phrase (VP), etc."
   ]
  },
  {
   "cell_type": "code",
   "execution_count": null,
   "metadata": {},
   "outputs": [],
   "source": []
  }
 ],
 "metadata": {
  "kernelspec": {
   "display_name": "Python 3",
   "language": "python",
   "name": "python3"
  },
  "language_info": {
   "codemirror_mode": {
    "name": "ipython",
    "version": 3
   },
   "file_extension": ".py",
   "mimetype": "text/x-python",
   "name": "python",
   "nbconvert_exporter": "python",
   "pygments_lexer": "ipython3",
   "version": "3.9.13"
  },
  "orig_nbformat": 4,
  "vscode": {
   "interpreter": {
    "hash": "4b012d59fd9967520aa1876644e3a9774eee391dbb6584df68e553498820aaf9"
   }
  }
 },
 "nbformat": 4,
 "nbformat_minor": 2
}
